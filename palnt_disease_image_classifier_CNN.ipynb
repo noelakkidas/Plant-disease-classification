{
  "nbformat": 4,
  "nbformat_minor": 0,
  "metadata": {
    "colab": {
      "name": "palnt disease image classifier-CNN.ipynb",
      "provenance": [],
      "private_outputs": true,
      "mount_file_id": "1q_0V3VNsEbW9874th2P96wHgaboLg4iq",
      "authorship_tag": "ABX9TyMiI5gmn6py4tgGEtICgRbw",
      "include_colab_link": true
    },
    "kernelspec": {
      "name": "python3",
      "display_name": "Python 3"
    },
    "language_info": {
      "name": "python"
    }
  },
  "cells": [
    {
      "cell_type": "markdown",
      "metadata": {
        "id": "view-in-github",
        "colab_type": "text"
      },
      "source": [
        "<a href=\"https://colab.research.google.com/github/noelakkidas/Plant-disease-classification/blob/main/palnt_disease_image_classifier_CNN.ipynb\" target=\"_parent\"><img src=\"https://colab.research.google.com/assets/colab-badge.svg\" alt=\"Open In Colab\"/></a>"
      ]
    },
    {
      "cell_type": "markdown",
      "source": [
        "Importing the required libraries and packages"
      ],
      "metadata": {
        "id": "12in8ZL3Kk5S"
      }
    },
    {
      "cell_type": "code",
      "execution_count": null,
      "metadata": {
        "id": "WjuVrqeLBwqs"
      },
      "outputs": [],
      "source": [
        "from tensorflow.keras import models\n",
        "import tensorflow as tf\n",
        "from tensorflow.keras.models import Sequential, Model\n",
        "from tensorflow.keras.layers import Dense, Conv2D, Flatten, Dropout, MaxPooling2D\n",
        "from tensorflow.keras.preprocessing.image import ImageDataGenerator\n",
        "import os\n",
        "import numpy as np\n",
        "import matplotlib.pyplot as plt\n",
        "from keras.applications.vgg19 import VGG19\n"
      ]
    },
    {
      "cell_type": "markdown",
      "source": [
        "Collecting the data through Kaggle Website directly to Google Colab"
      ],
      "metadata": {
        "id": "rKjBOpx9Kviq"
      }
    },
    {
      "cell_type": "code",
      "source": [
        "from google.colab import drive\n",
        "drive.mount('/content/drive')"
      ],
      "metadata": {
        "id": "koVfQC5oCcW4"
      },
      "execution_count": null,
      "outputs": []
    },
    {
      "cell_type": "code",
      "source": [
        "!pip install kaggle"
      ],
      "metadata": {
        "id": "XlqTws0dCjyQ"
      },
      "execution_count": null,
      "outputs": []
    },
    {
      "cell_type": "code",
      "source": [
        "%cd /content/drive/MyDrive/plant_disease"
      ],
      "metadata": {
        "id": "mruWjB2YC_Tu"
      },
      "execution_count": null,
      "outputs": []
    },
    {
      "cell_type": "code",
      "source": [
        "import os\n",
        "os.environ['KAGGLE_CONFIG_DIR'] = \"/content/drive/MyDrive/plant_disease\""
      ],
      "metadata": {
        "id": "FZjCoS-iDE9o"
      },
      "execution_count": null,
      "outputs": []
    },
    {
      "cell_type": "code",
      "source": [
        "!kaggle datasets download -d vipoooool/new-plant-diseases-dataset "
      ],
      "metadata": {
        "id": "c1lV506pDO7E"
      },
      "execution_count": null,
      "outputs": []
    },
    {
      "cell_type": "code",
      "source": [
        "!unzip new-plant-diseases-dataset.zip"
      ],
      "metadata": {
        "id": "DCityB13DrqG"
      },
      "execution_count": null,
      "outputs": []
    },
    {
      "cell_type": "code",
      "source": [
        "%cd /content/drive/MyDrive/plant_disease"
      ],
      "metadata": {
        "id": "6OHvc8IJZfTn"
      },
      "execution_count": null,
      "outputs": []
    },
    {
      "cell_type": "markdown",
      "source": [
        "Getting the data"
      ],
      "metadata": {
        "id": "8xVqUL_oLB45"
      }
    },
    {
      "cell_type": "code",
      "source": [
        "os.listdir(\"/content/drive/MyDrive/plant_disease/New Plant Diseases Dataset(Augmented)/New Plant Diseases Dataset(Augmented)\")\n"
      ],
      "metadata": {
        "id": "nfL8p5IRa5Mr"
      },
      "execution_count": null,
      "outputs": []
    },
    {
      "cell_type": "code",
      "source": [
        "os.li"
      ],
      "metadata": {
        "id": "tzgNtQ1qdGYu"
      },
      "execution_count": null,
      "outputs": []
    },
    {
      "cell_type": "code",
      "source": [
        "train_dir = ImageDataGenerator(zoom_range =0.5,shear_range = 0.3,rescale =1./255, horizontal_flip = True)\n",
        "valid_dir = ImageDataGenerator(rescale = 1./255)"
      ],
      "metadata": {
        "id": "b43DeyNVdUVl"
      },
      "execution_count": null,
      "outputs": []
    },
    {
      "cell_type": "code",
      "source": [
        "train = train_dir.flow_from_directory(directory = \"/content/drive/MyDrive/plant_disease/New Plant Diseases Dataset(Augmented)/New Plant Diseases Dataset(Augmented)/train\",target_size = (256,256),batch_size = 32 )\n",
        "valid = valid_dir.flow_from_directory(directory = \"/content/drive/MyDrive/plant_disease/New Plant Diseases Dataset(Augmented)/New Plant Diseases Dataset(Augmented)/valid\",target_size = (256,256),batch_size = 32 )"
      ],
      "metadata": {
        "id": "ZCI4IvXjdW8t"
      },
      "execution_count": null,
      "outputs": []
    },
    {
      "cell_type": "markdown",
      "source": [
        "Generating data"
      ],
      "metadata": {
        "id": "npYdS_fTLI4F"
      }
    },
    {
      "cell_type": "code",
      "source": [
        "batch_size = 128\n",
        "epochs = 15\n",
        "IMG_HEIGHT = 150\n",
        "IMG_WIDTH = 150\n",
        "\n",
        "# Generator for our training data\n",
        "train_image_generator = ImageDataGenerator(rescale=1./255)\n",
        "# Generator for our validation data\n",
        "validation_image_generator = ImageDataGenerator(rescale=1./255)\n",
        "\n",
        "train_data_gen = train_dir.flow_from_directory(batch_size=batch_size, directory=\"/content/drive/MyDrive/plant_disease/New Plant Diseases Dataset(Augmented)/New Plant Diseases Dataset(Augmented)/train\", shuffle=True, target_size=(IMG_HEIGHT, IMG_WIDTH), class_mode='categorical')\n",
        "val_data_gen = valid_dir.flow_from_directory(batch_size=batch_size,directory=\"/content/drive/MyDrive/plant_disease/New Plant Diseases Dataset(Augmented)/New Plant Diseases Dataset(Augmented)/valid\",target_size=(IMG_HEIGHT, IMG_WIDTH),class_mode='categorical')"
      ],
      "metadata": {
        "id": "9mCP6wea25qa"
      },
      "execution_count": null,
      "outputs": []
    },
    {
      "cell_type": "markdown",
      "source": [
        "Plotting the images"
      ],
      "metadata": {
        "id": "I-5tghJTLL8Z"
      }
    },
    {
      "cell_type": "code",
      "source": [
        "sample_training_images, _ = next(train_data_gen)\n",
        "def plotImages(imagesArr):\n",
        "  fig, axes = plt.subplots(1,5,figsize = (20,20))\n",
        "  axes  = axes.flatten()\n",
        "  for img ,ax in zip(imagesArr,axes):\n",
        "    ax.imshow(img)\n",
        "    ax.axis('off')\n",
        "  plt.tight_layout()\n",
        "  plt.show()\n",
        "plotImages(sample_training_images)\n"
      ],
      "metadata": {
        "id": "bNS8b_Xe1sUk"
      },
      "execution_count": null,
      "outputs": []
    },
    {
      "cell_type": "markdown",
      "source": [
        "Creating the model using Sequential."
      ],
      "metadata": {
        "id": "C8GwGar_LQyb"
      }
    },
    {
      "cell_type": "code",
      "source": [
        "model = Sequential()\n",
        "model.add(Conv2D(16,3, padding ='same', activation = 'relu',input_shape = (IMG_HEIGHT,IMG_WIDTH,3)))\n",
        "model.add(MaxPooling2D())\n",
        "model.add(Conv2D(32, 3, activation = 'relu'))\n",
        "model.add(MaxPooling2D())\n",
        "model.add(Conv2D(64,3, activation = 'relu'))\n",
        "model.add(MaxPooling2D())\n",
        "model.add(Flatten())\n",
        "model.add(Dense(512, activation = 'relu'))\n",
        "\n",
        "model.add(Dense(1))"
      ],
      "metadata": {
        "id": "eKzOOlh42wwO"
      },
      "execution_count": null,
      "outputs": []
    },
    {
      "cell_type": "code",
      "source": [
        "\n",
        "model.compile(optimizer='adam',loss=tf.keras.losses.categorical_crossentropy,metrics=['accuracy'])\n",
        "model.summary()"
      ],
      "metadata": {
        "id": "--AxdW-S5Bn5"
      },
      "execution_count": null,
      "outputs": []
    },
    {
      "cell_type": "code",
      "source": [
        "history = model.fit(train_data_gen, steps_per_epoch=64, epochs=10,validation_data=val_data_gen,validation_steps=64)\n"
      ],
      "metadata": {
        "id": "NvqjJ9te5onm"
      },
      "execution_count": null,
      "outputs": []
    },
    {
      "cell_type": "code",
      "source": [
        "h = history.history\n",
        "print(h.keys())\n",
        "print(h.values())"
      ],
      "metadata": {
        "id": "6GcvYMqKBfTp"
      },
      "execution_count": null,
      "outputs": []
    },
    {
      "cell_type": "markdown",
      "source": [
        "testing an image"
      ],
      "metadata": {
        "id": "PqmNWXUOLcB2"
      }
    },
    {
      "cell_type": "code",
      "source": [
        "img = keras.preprocessing.image.load_img(\n",
        "    \"/content/drive/MyDrive/plant_disease/new plant diseases dataset(augmented)/New Plant Diseases Dataset(Augmented)/train/Orange___Haunglongbing_(Citrus_greening)/0342765a-469b-4287-bdac-2c48875cc7f5___CREC_HLB 7706.JPG\", target_size=(180,180))\n",
        "img_array = keras.preprocessing.image.img_to_array(img)\n",
        "img_array = tf.expand_dims(img_array, 0)  # Create batch axis\n",
        "\n",
        "predictions = model.predict(img_array)\n",
        "score = predictions[0]\n",
        "print(\n",
        "    \"This image is %.2f percent cat and %.2f percent dog.\"\n",
        "    % (100 * (1 - score), 100 * score)\n",
        ")"
      ],
      "metadata": {
        "id": "8GW85Y2nDNWO"
      },
      "execution_count": null,
      "outputs": []
    },
    {
      "cell_type": "code",
      "source": [
        "acc = history.history['accuracy']\n",
        "val_acc = history.history['val_accuracy']\n",
        "loss=history.history['loss']\n",
        "val_loss=history.history['val_loss']\n",
        "epochs_range = range(10)\n",
        "plt.figure(figsize=(8, 8))\n",
        "plt.subplot(1, 2, 1)\n",
        "plt.plot(epochs_range, acc, label='Training Accuracy')\n",
        "plt.plot(epochs_range, val_acc, label='Validation Accuracy')\n",
        "plt.legend(loc='lower right')\n",
        "plt.title('Training and Validation Accuracy')\n",
        "plt.subplot(1, 2, 2)\n",
        "plt.plot(epochs_range, loss, label='Training Loss')\n",
        "plt.plot(epochs_range, val_loss, label='Validation Loss')\n",
        "plt.legend(loc='upper right')\n",
        "plt.title('Training and Validation Loss')\n",
        "plt.show()"
      ],
      "metadata": {
        "id": "HCLELmSFB6HA"
      },
      "execution_count": null,
      "outputs": []
    },
    {
      "cell_type": "markdown",
      "source": [
        "Model Building for using the model Model."
      ],
      "metadata": {
        "id": "_Ei0VlK9Lhwn"
      }
    },
    {
      "cell_type": "code",
      "source": [
        "t_img, label = train.next()\n"
      ],
      "metadata": {
        "id": "hkBkJVXOdbRr"
      },
      "execution_count": null,
      "outputs": []
    },
    {
      "cell_type": "code",
      "source": [
        "t_img.shape"
      ],
      "metadata": {
        "id": "G3sAGmvamMGz"
      },
      "execution_count": null,
      "outputs": []
    },
    {
      "cell_type": "code",
      "source": [
        "def plotImage(imgarr, label):\n",
        "  for im, l in zip(imgarr, label):\n",
        "    plt.figure(figsize = (5,5))\n",
        "    plt.imshow(im)\n",
        "    plt.show()"
      ],
      "metadata": {
        "id": "FUqrP0ygmUYb"
      },
      "execution_count": null,
      "outputs": []
    },
    {
      "cell_type": "code",
      "source": [
        "plotImage(t_img[:3],label[:3])"
      ],
      "metadata": {
        "id": "zsMLLsV1mmgU"
      },
      "execution_count": null,
      "outputs": []
    },
    {
      "cell_type": "code",
      "source": [
        "import keras"
      ],
      "metadata": {
        "id": "52RZswlvnEOq"
      },
      "execution_count": null,
      "outputs": []
    },
    {
      "cell_type": "code",
      "source": [
        "base_model = VGG19(input_shape = (256,256,3), include_top = False)"
      ],
      "metadata": {
        "id": "cdALWyhJninr"
      },
      "execution_count": null,
      "outputs": []
    },
    {
      "cell_type": "code",
      "source": [
        "for layer in base_model.layers:\n",
        "  layer.trainable = False"
      ],
      "metadata": {
        "id": "pIH_E-cwnzlc"
      },
      "execution_count": null,
      "outputs": []
    },
    {
      "cell_type": "code",
      "source": [
        "base_model.summary()"
      ],
      "metadata": {
        "id": "vCBS-A_In8lE"
      },
      "execution_count": null,
      "outputs": []
    },
    {
      "cell_type": "code",
      "source": [
        "X = Flatten()(base_model.output)\n",
        "X = Dense(units = 38, activation = 'softmax')(X)\n",
        "\n",
        "model = Model(base_model.input, X)"
      ],
      "metadata": {
        "id": "GM6A22ARoKvm"
      },
      "execution_count": null,
      "outputs": []
    },
    {
      "cell_type": "code",
      "source": [
        "model.summary()"
      ],
      "metadata": {
        "id": "_HbOKpJcoi99"
      },
      "execution_count": null,
      "outputs": []
    },
    {
      "cell_type": "code",
      "source": [
        "model.compile(optimizer = 'adam', loss = keras.losses.categorical_crossentropy, metrics = ['accuracy'])"
      ],
      "metadata": {
        "id": "hqmB4cmtp-4N"
      },
      "execution_count": null,
      "outputs": []
    },
    {
      "cell_type": "markdown",
      "source": [
        "#Early Stopping and Model Check Point"
      ],
      "metadata": {
        "id": "ZNA5kUjbot0R"
      }
    },
    {
      "cell_type": "code",
      "source": [
        "from keras.callbacks import ModelCheckpoint, EarlyStopping\n",
        "\n",
        "es = EarlyStopping(monitor = 'val_accuracy', min_delta = 0.01, patience = 3, verbose = 1)\n",
        "\n",
        "mc = ModelCheckpoint(filepath = \"best_model.h5\", monitor='val_accuracy', min_delta = 0.01, patience =3, verbose = 1, save_best_only = True)"
      ],
      "metadata": {
        "id": "YiDPytloomGp"
      },
      "execution_count": null,
      "outputs": []
    },
    {
      "cell_type": "code",
      "source": [
        "cb = [es,mc]"
      ],
      "metadata": {
        "id": "-GHoAlmIpdPm"
      },
      "execution_count": null,
      "outputs": []
    },
    {
      "cell_type": "code",
      "source": [
        "his = model.fit_generator(train,steps_per_epoch = 16, verbose = 1, callbacks = cb, validation_data = valid, validation_steps=16 )"
      ],
      "metadata": {
        "id": "Ytu_t_l3pgHb"
      },
      "execution_count": null,
      "outputs": []
    },
    {
      "cell_type": "code",
      "source": [
        "h = his.history\n",
        "print(h.keys())\n",
        "print(h.values())"
      ],
      "metadata": {
        "id": "dLdacRGssRp8"
      },
      "execution_count": null,
      "outputs": []
    },
    {
      "cell_type": "code",
      "source": [
        "acc = h['accuracy']\n",
        "val_acc = h['val_accuracy']\n",
        "loss=h['loss']\n",
        "val_loss=h['val_loss']\n",
        "epochs_range = range(epochs)\n",
        "plt.figure(figsize=(8, 8))\n",
        "plt.subplot(1, 2, 1)\n",
        "plt.plot(epochs_range, acc, label='Training Accuracy')\n",
        "plt.plot(epochs_range, val_acc, label='Validation Accuracy')\n",
        "plt.legend(loc='lower right')\n",
        "plt.title('Training and Validation Accuracy')\n",
        "plt.subplot(1, 2, 2)\n",
        "plt.plot(epochs_range, loss, label='Training Loss')\n",
        "plt.plot(epochs_range, val_loss, label='Validation Loss')\n",
        "plt.legend(loc='upper right')\n",
        "plt.title('Training and Validation Loss')\n",
        "plt.show()"
      ],
      "metadata": {
        "id": "cAWxrSbfsYsq"
      },
      "execution_count": null,
      "outputs": []
    },
    {
      "cell_type": "markdown",
      "source": [
        ""
      ],
      "metadata": {
        "id": "MLFs4-uSKi0m"
      }
    }
  ]
}